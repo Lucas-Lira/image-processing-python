{
 "cells": [
  {
   "cell_type": "code",
   "execution_count": null,
   "metadata": {},
   "outputs": [],
   "source": [
    "import cv2"
   ]
  },
  {
   "cell_type": "code",
   "execution_count": null,
   "metadata": {},
   "outputs": [],
   "source": [
    "my_image = cv2.imread(\"image.jpg\")\n",
    "my_image = cv2.resize(my_image, (400, 400))\n",
    "cv2.imshow(\"Input Image\", my_image)"
   ]
  },
  {
   "cell_type": "code",
   "execution_count": null,
   "metadata": {},
   "outputs": [],
   "source": [
    "height = my_image.shape[0]\n",
    "width = my_image.shape[1]\n",
    "channels = my_image.shape[2]\n",
    "\n",
    "if my_image.shape[2] == 3:\n",
    "    for line in range(0, height):\n",
    "        for column in range(0, width):\n",
    "            my_tuple = my_image[line, column] # return (b, g, r)\n",
    "            luminosity = my_tuple[2] * 0.3 + my_tuple[1] * 0.59 + my_tuple[0] * 0.11\n",
    "            my_image[line, column] = (luminosity, luminosity, luminosity)\n",
    "    cv2.imshow(\"Output Image\", my_image) \n",
    "else:\n",
    "    print('Only images with 3 channels are allowed')\n",
    "cv2.waitKey(0)"
   ]
  }
 ],
 "metadata": {
  "kernelspec": {
   "display_name": "Python 3",
   "language": "python",
   "name": "python3"
  },
  "language_info": {
   "codemirror_mode": {
    "name": "ipython",
    "version": 3
   },
   "file_extension": ".py",
   "mimetype": "text/x-python",
   "name": "python",
   "nbconvert_exporter": "python",
   "pygments_lexer": "ipython3",
   "version": "3.8.3"
  }
 },
 "nbformat": 4,
 "nbformat_minor": 4
}
