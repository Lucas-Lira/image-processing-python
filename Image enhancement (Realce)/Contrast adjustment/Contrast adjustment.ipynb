{
 "cells": [
  {
   "cell_type": "markdown",
   "metadata": {},
   "source": [
    "### Observação geral: Todas as transformações realizadas tomarão como base uma imagem em tons de cinza, para realizar o procedimento sobre imagens com três canais basta tratar cada canal separadamente.¶\n",
    "\n",
    "### O ajuste de contraste é uma transformação linear. Essa transformação é realizada por uma função de mapeamento, tal que cada valor de cinza na imagem original é mapeado para um novo valor de cinza. A seguir é apresentada a fórmula utilizada no mapeamento:\n",
    "\n",
    "#### G = (Gmax - Gmin) / (Fmax - Fmin) * (f - Fmin) + Gmin\n",
    "\n",
    "### General note: All transformations performed will be based on an image in shades of gray, to perform the procedure on images with three channels, just treat each channel separately."
   ]
  },
  {
   "cell_type": "markdown",
   "metadata": {},
   "source": [
    "# Handcrafted"
   ]
  },
  {
   "cell_type": "code",
   "execution_count": 1,
   "metadata": {},
   "outputs": [],
   "source": [
    "import cv2\n",
    "\n",
    "def RgbToGrayScale(image):\n",
    "    height   = image.shape[0]\n",
    "    width    = image.shape[1]\n",
    "    channels = image.shape[2]\n",
    "\n",
    "    if channels == 3:\n",
    "        for line in range(0, height):\n",
    "            for column in range(0, width):\n",
    "                my_tuple = image[line, column] # return (b, g, r)\n",
    "                luminosity = my_tuple[2] * 0.3 + my_tuple[1] * 0.59 + my_tuple[0] * 0.11\n",
    "                image[line, column] = (luminosity, luminosity, luminosity)\n",
    "        return image\n",
    "    else:\n",
    "        print('Only images with 3 channels are allowed')\n",
    "    return []"
   ]
  },
  {
   "cell_type": "code",
   "execution_count": 2,
   "metadata": {},
   "outputs": [
    {
     "name": "stdout",
     "output_type": "stream",
     "text": [
      "Enter the value of gmin: 1.2\n",
      "Enter the value of gmax: 1.3\n",
      "248.0 9\n"
     ]
    }
   ],
   "source": [
    "try:\n",
    "    \n",
    "    image = cv2.imread('images/car.jpg');\n",
    "\n",
    "    grayscale_image = RgbToGrayScale(image)\n",
    "\n",
    "    if len(grayscale_image) > 0:\n",
    "\n",
    "        gmin = float(input('Enter the value of gmin: '))\n",
    "        gmax = float(input('Enter the value of gmax: '))\n",
    "        fmin = grayscale_image[0, 0][0]\n",
    "        fmax = 0\n",
    "\n",
    "        # Com Gmin e Gmax precisamos vasculhar a imagem de forma a obter os valores de fmin e fmax que correspondem a \n",
    "        # mínima e máxima intensidade de pixel presente na imagem, respectivamente.\n",
    "\n",
    "        height = grayscale_image.shape[0]\n",
    "        width  = grayscale_image.shape[1]\n",
    "\n",
    "        cv2.imshow('Grayscale image', grayscale_image)\n",
    "        \n",
    "        for line in range(0, height):\n",
    "            for column in range(0, width):\n",
    "                my_tuple = grayscale_image[line, column] # return (b, g, r)\n",
    "                # Verificando se é o maior valor\n",
    "                fmax = (my_tuple[0] + fmax + abs(my_tuple[0] - fmax)) / 2\n",
    "                # Verificando se é o menor valor\n",
    "                if my_tuple[0] < fmin:\n",
    "                    fmin = my_tuple[0]\n",
    "\n",
    "        #print(fmax, fmin)\n",
    "                    \n",
    "        for line in range(0, height):\n",
    "            for column in range(0, width):\n",
    "                my_tuple = grayscale_image[line, column] # return (b, g, r)\n",
    "                # Calculado o novo valor da intensidade do pixel\n",
    "                g = (gmax - gmin) / (fmax - fmin) * (my_tuple[0] - fmin) + gmin\n",
    "                #print('G ', g)\n",
    "                grayscale_image[line, column] = (g, g, g)\n",
    "\n",
    "        cv2.imshow('Result', grayscale_image)\n",
    "        cv2.waitKey(0)\n",
    "\n",
    "    else:\n",
    "        print('Invalid image')\n",
    "\n",
    "except:\n",
    "    print('Invalid values')"
   ]
  }
 ],
 "metadata": {
  "kernelspec": {
   "display_name": "Python 3",
   "language": "python",
   "name": "python3"
  },
  "language_info": {
   "codemirror_mode": {
    "name": "ipython",
    "version": 3
   },
   "file_extension": ".py",
   "mimetype": "text/x-python",
   "name": "python",
   "nbconvert_exporter": "python",
   "pygments_lexer": "ipython3",
   "version": "3.8.3"
  }
 },
 "nbformat": 4,
 "nbformat_minor": 4
}
