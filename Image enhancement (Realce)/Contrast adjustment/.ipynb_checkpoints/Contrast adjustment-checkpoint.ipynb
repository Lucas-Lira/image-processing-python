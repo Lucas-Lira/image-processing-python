{
 "cells": [
  {
   "cell_type": "markdown",
   "metadata": {},
   "source": [
    "### Observação geral: Todas as transformações realizadas tomarão como base uma imagem em tons de cinza, para realizar o procedimento sobre imagens com três canais basta tratar cada canal separadamente.¶\n",
    "\n",
    "### O ajuste de contraste é uma transformação linear. Essa transformação é realizada por uma função de mapeamento, tal que cada valor de cinza na imagem original é mapeado para um novo valor de cinza. A seguir é apresentada a fórmula utilizada no mapeamento:\n",
    "\n",
    "### G = (Gmax - Gmin) / (Fmax - Fmin) * (f - Fmin) + Gmin\n",
    "\n",
    "#####  Gmin e Gmax - são parâmetros de entrada que serão utilizados para regular o ajuste de contraste.\n",
    "##### Fmin e Fmax - correspondem a intensidade mínima máxima da imagem\n",
    "##### f - representa o valor corrente do pixel"
   ]
  },
  {
   "cell_type": "markdown",
   "metadata": {},
   "source": [
    "# Handcrafted"
   ]
  },
  {
   "cell_type": "code",
   "execution_count": null,
   "metadata": {},
   "outputs": [],
   "source": [
    "import cv2\n",
    "\n",
    "def RgbToGrayScale(image):\n",
    "    height   = image.shape[0]\n",
    "    width    = image.shape[1]\n",
    "    channels = image.shape[2]\n",
    "\n",
    "    if channels == 3:\n",
    "        for line in range(0, height):\n",
    "            for column in range(0, width):\n",
    "                my_tuple = image[line, column] # return (b, g, r)\n",
    "                luminosity = my_tuple[2] * 0.3 + my_tuple[1] * 0.59 + my_tuple[0] * 0.11\n",
    "                image[line, column] = (luminosity, luminosity, luminosity)\n",
    "        return image\n",
    "    else:\n",
    "        print('Only images with 3 channels are allowed')\n",
    "    return []"
   ]
  },
  {
   "cell_type": "code",
   "execution_count": null,
   "metadata": {},
   "outputs": [],
   "source": [
    "try:\n",
    "    \n",
    "    image = cv2.imread('images/forest.jpg');\n",
    "    \n",
    "    image = cv2.resize(image, (600, 600))\n",
    "\n",
    "    grayscale_image = RgbToGrayScale(image)\n",
    "\n",
    "    if len(grayscale_image) > 0:\n",
    "\n",
    "        gmin = float(input('Enter the value of gmin: '))\n",
    "        gmax = float(input('Enter the value of gmax: '))\n",
    "        fmin = grayscale_image[0, 0][0]\n",
    "        fmax = 0\n",
    "\n",
    "        # Com Gmin e Gmax precisamos vasculhar a imagem de forma a obter os valores de fmin e fmax que correspondem a \n",
    "            # mínima e máxima intensidade de pixel presente na imagem, respectivamente.\n",
    "        \n",
    "        # With Gmin and Gmax we need to search the image in order to obtain the values of fmin and fmax that \n",
    "            # correspond to the minimum and maximum pixel intensity present in the image, respectively.\n",
    "\n",
    "        height = grayscale_image.shape[0]\n",
    "        width  = grayscale_image.shape[1]\n",
    "\n",
    "        cv2.imshow('Grayscale image', grayscale_image)\n",
    "        \n",
    "        for line in range(0, height):\n",
    "            for column in range(0, width):\n",
    "                my_tuple = grayscale_image[line, column] # return (b, g, r)\n",
    "                # Verificando se é o maior valor\n",
    "                # Checking if it is the highest value\n",
    "                fmax = (my_tuple[0] + fmax + abs(my_tuple[0] - fmax)) / 2\n",
    "                # Verificando se é o menor valor\n",
    "                # Checking if it is the lowest value\n",
    "                if my_tuple[0] < fmin:\n",
    "                    fmin = my_tuple[0]\n",
    "\n",
    "        for line in range(0, height):\n",
    "            for column in range(0, width):\n",
    "                my_tuple = grayscale_image[line, column] # return (b, g, r)\n",
    "                \n",
    "                # Calculado o novo valor de intensidade do pixel\n",
    "                # Calculated the new pixel intensity value\n",
    "                \n",
    "                g = (gmax - gmin) / (fmax - fmin) * (my_tuple[0] - fmin) + gmin\n",
    "                \n",
    "                # Observação: Se o valor da primeira divisão \"(gmax - gmin) / (fmax - fmin)\" for igual a 1 o \n",
    "                # intervalo permanece o mesmo quando consideramos a distribuição de níveis de cinza (intensidade) da\n",
    "                # imagem no histograma. \n",
    "                # Se por ventura o valor for maior que 1, o intervalo é expandido\n",
    "                # Se for menor que 1 o intervalo é comprimido\n",
    "                    \n",
    "                # Note: If the value of the first division \"(gmax - gmin) / (fmax - fmin)\" is equal to 1, \n",
    "                # the interval remains the same when considering the distribution of gray levels (intensity) of \n",
    "                # the image in the histogram. \n",
    "                # If the value is greater than 1, the range is expanded. \n",
    "                # If less than 1 the range is compressed\n",
    "                 \n",
    "                grayscale_image[line, column] = (g, g, g)\n",
    "                \n",
    "        cv2.imshow('Result', grayscale_image)\n",
    "        cv2.waitKey(0)\n",
    "\n",
    "    else:\n",
    "        print('Invalid image')\n",
    "\n",
    "except:\n",
    "    print('Invalid values')"
   ]
  },
  {
   "cell_type": "markdown",
   "metadata": {},
   "source": [
    "# With OpenCv"
   ]
  },
  {
   "cell_type": "code",
   "execution_count": null,
   "metadata": {},
   "outputs": [],
   "source": [
    "import cv2\n",
    "\n",
    "try:\n",
    "    \n",
    "    image = cv2.imread('images/forest.jpg')\n",
    "    image = cv2.resize(image, (600, 600))\n",
    "    image = cv2.cvtColor(image, cv2.COLOR_BGR2GRAY)\n",
    "    \n",
    "    \n",
    "    \n",
    "    cv2.imshow('Image', image)\n",
    "    cv2.waitKey(0)\n",
    "    \n",
    "except:\n",
    "    print('Application error')"
   ]
  }
 ],
 "metadata": {
  "kernelspec": {
   "display_name": "Python 3",
   "language": "python",
   "name": "python3"
  },
  "language_info": {
   "codemirror_mode": {
    "name": "ipython",
    "version": 3
   },
   "file_extension": ".py",
   "mimetype": "text/x-python",
   "name": "python",
   "nbconvert_exporter": "python",
   "pygments_lexer": "ipython3",
   "version": "3.8.3"
  }
 },
 "nbformat": 4,
 "nbformat_minor": 4
}
