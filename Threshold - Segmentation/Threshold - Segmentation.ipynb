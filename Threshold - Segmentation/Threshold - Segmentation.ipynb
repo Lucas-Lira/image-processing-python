{
 "cells": [
  {
   "cell_type": "code",
   "execution_count": null,
   "metadata": {},
   "outputs": [],
   "source": [
    "#from skimage import data, io, filters, data_dir\n",
    "#import cv2\n",
    "#import os"
   ]
  },
  {
   "cell_type": "markdown",
   "metadata": {},
   "source": [
    "# 1. Soluções com OpenCV"
   ]
  },
  {
   "cell_type": "markdown",
   "metadata": {},
   "source": [
    "## 1.1 Limiar Simples"
   ]
  },
  {
   "cell_type": "code",
   "execution_count": null,
   "metadata": {},
   "outputs": [],
   "source": [
    "import cv2\n",
    "\n",
    "original_image = cv2.imread(\"images/brain.jpg\")\n",
    "original_image = cv2.resize(original_image, (500, 500))\n",
    "\n",
    "# Convertendo imagem em escala de cinza\n",
    "grayscale_image = cv2.cvtColor(original_image, cv2.COLOR_BGR2GRAY)\n",
    "\n",
    "# Entradas Parâmetros\n",
    "# ====================================================================\n",
    "# 1 - Imagem (Em tons de cinza)\n",
    "# 2 - Limiar (Limite que é usado para classificar os valores de pixel)\n",
    "# 3 - Valor máximo atribuído a valores de pixel que excedem o limite\n",
    "# 4 - \n",
    "\n",
    "# Saídas\n",
    "# ====================================================================\n",
    "# 1 - (ret) - O primeiro limite que foi utilizado\n",
    "# 2 - (thresholded image) - Imagem resultante da limiarização\n",
    "\n",
    "ret, resulting_image = cv2.threshold(grayscale_image, 127, 255, cv2.THRESH_BINARY)\n",
    "\n",
    "#Exibição com imshow do OpenCV\n",
    "# ===================================================================\n",
    "cv2.imshow(\"Original Image\", original_image)\n",
    "cv2.imshow(\"Grayscale image\", grayscale_image)\n",
    "cv2.imshow(\"Threshold image\", resulting_image)\n",
    "cv2.waitKey(0)"
   ]
  },
  {
   "cell_type": "code",
   "execution_count": null,
   "metadata": {},
   "outputs": [],
   "source": [
    "# Solução com SCIKIT-IMAGE\n",
    "\n",
    "#image = data.coins()\n",
    "\n",
    "filename = os.path.join(data_dir, 'brain.jpg')\n",
    "image = io.imread(filename)\n",
    "\n",
    "# ... or any other NumPy array!\n",
    "edges = filters.sobel(image)\n",
    "io.imshow(edges)\n",
    "io.show()"
   ]
  },
  {
   "cell_type": "code",
   "execution_count": null,
   "metadata": {},
   "outputs": [],
   "source": [
    "# Teste\n",
    "import cv2 as cv\n",
    "import numpy as np\n",
    "from matplotlib import pyplot as plt\n",
    "\n",
    "img = cv.imread('images/brain.jpg', 0)\n",
    "\n",
    "#img = cv.cvtColor(img, cv.COLOR_BGR2GRAY)\n",
    "\n",
    "ret, thresh1 = cv.threshold(img, 127, 255, cv.THRESH_BINARY)\n",
    "ret, thresh2 = cv.threshold(img, 127, 255, cv.THRESH_BINARY_INV)\n",
    "ret, thresh3 = cv.threshold(img, 127, 255, cv.THRESH_TRUNC)\n",
    "ret, thresh4 = cv.threshold(img, 127, 255, cv.THRESH_TOZERO)\n",
    "ret, thresh5 = cv.threshold(img, 127, 255, cv.THRESH_TOZERO_INV) \n",
    "\n",
    "titles = ['Original Image','BINARY','BINARY_INV','TRUNC','TOZERO','TOZERO_INV']\n",
    "\n",
    "images = [img, thresh1, thresh2, thresh3, thresh4, thresh5]\n",
    "\n",
    "for i in range(6):\n",
    "    plt.subplot( 2, 3, i + 1), plt.imshow(images[i], 'gray',vmin = 0, vmax = 255)\n",
    "    plt.title(titles[i])\n",
    "    plt.xticks([]),plt.yticks([])\n",
    "    \n",
    "plt.show()"
   ]
  },
  {
   "cell_type": "markdown",
   "metadata": {},
   "source": [
    "# 3. Soluções Artesanais"
   ]
  },
  {
   "cell_type": "markdown",
   "metadata": {},
   "source": [
    "## 3.1 Limiar Simples"
   ]
  },
  {
   "cell_type": "code",
   "execution_count": null,
   "metadata": {},
   "outputs": [],
   "source": [
    "def imageToGrayScale(image):\n",
    "    height = image.shape[0]\n",
    "    width  = image.shape[1]\n",
    "    channels = image.shape[2]\n",
    "\n",
    "    if channels == 3:\n",
    "        for line in range(0, height):\n",
    "            for column in range(0, width):\n",
    "                my_tuple = image[line, column] # return (b, g, r)\n",
    "                luminosity = my_tuple[2] * 0.3 + my_tuple[1] * 0.59 + my_tuple[0] * 0.11\n",
    "                image[line, column] = (luminosity, luminosity, luminosity)\n",
    "        return image\n",
    "    else:\n",
    "        print('Only images with 3 channels are allowed')\n",
    "    return None"
   ]
  },
  {
   "cell_type": "code",
   "execution_count": null,
   "metadata": {},
   "outputs": [],
   "source": [
    "import cv2\n",
    "\n",
    "#if imegem_retorno is None:"
   ]
  }
 ],
 "metadata": {
  "kernelspec": {
   "display_name": "Python 3",
   "language": "python",
   "name": "python3"
  },
  "language_info": {
   "codemirror_mode": {
    "name": "ipython",
    "version": 3
   },
   "file_extension": ".py",
   "mimetype": "text/x-python",
   "name": "python",
   "nbconvert_exporter": "python",
   "pygments_lexer": "ipython3",
   "version": "3.8.3"
  }
 },
 "nbformat": 4,
 "nbformat_minor": 4
}
