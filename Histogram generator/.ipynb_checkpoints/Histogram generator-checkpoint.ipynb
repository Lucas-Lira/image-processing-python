{
 "cells": [
  {
   "cell_type": "code",
   "execution_count": null,
   "metadata": {},
   "outputs": [],
   "source": [
    "# histogram vector\n",
    "histogram_vector = [1,2,3,4,5,6]\n",
    "plt.hist(histogram_vector)\n",
    "plt.show()"
   ]
  },
  {
   "cell_type": "code",
   "execution_count": null,
   "metadata": {},
   "outputs": [],
   "source": [
    "# COM OpenCV\n",
    "# ====================================================================\n",
    "import cv2\n",
    "import matplotlib.pyplot as plt\n",
    "\n",
    "# Em tons de cinza\n",
    "grayscale_image = cv2.imread('images/image one.png', cv2.IMREAD_GRAYSCALE)\n",
    "# 3 canais\n",
    "three_channel_image = cv2.imread('images/image one.png')\n",
    "\n",
    "# Imagem em tons de cinza\n",
    "grayscale_histogram = cv2.calcHist(grayscale_image, [0], None, [256], [0, 256])\n",
    "\n",
    "# Imagem com três canais\n",
    "# [0] - Analise do canal azul\n",
    "# [1] - Analise do canal verde\n",
    "# [2] - Analise do canal vermelho\n",
    "three_channel_histogram = cv2.calcHist(three_channel_image, [0], None, [256], [0, 256])\n",
    "\n",
    "plt.plot(grayscale_histogram)\n",
    "plt.title('Grayscale Histogram')\n",
    "plt.show()\n",
    "plt.plot(three_channel_histogram)\n",
    "plt.title('Three Channel Histogram')\n",
    "plt.show()\n",
    "\n",
    "cv2.imshow('Grayscale image', grayscale_image)\n",
    "cv2.imshow('Three Channel image', three_channel_image)\n",
    "cv2.waitKey(0)"
   ]
  },
  {
   "cell_type": "code",
   "execution_count": 26,
   "metadata": {},
   "outputs": [
    {
     "data": {
      "text/plain": [
       "(array([269885,  37615], dtype=int64), array([0.25, 0.75]))"
      ]
     },
     "execution_count": 26,
     "metadata": {},
     "output_type": "execute_result"
    }
   ],
   "source": [
    "# COM scikit-image\n",
    "# ====================================================================\n",
    "from skimage import io, exposure\n",
    "#import matplotlib.pyplot as plt\n",
    "\n",
    "# Lendo e convertendo em escala de cinza\n",
    "img = io.imread('images/image one.png', as_gray=True)\n",
    "\n",
    "grayscale_histogram = exposure.histogram(img)\n",
    "\n",
    "\n",
    "\n",
    "#plt.plot(grayscale_histogram)\n",
    "#plt.title('Grayscale Histogram')\n",
    "#plt.show()\n",
    "\n",
    "#io.imshow(img)"
   ]
  }
 ],
 "metadata": {
  "kernelspec": {
   "display_name": "Python 3",
   "language": "python",
   "name": "python3"
  },
  "language_info": {
   "codemirror_mode": {
    "name": "ipython",
    "version": 3
   },
   "file_extension": ".py",
   "mimetype": "text/x-python",
   "name": "python",
   "nbconvert_exporter": "python",
   "pygments_lexer": "ipython3",
   "version": "3.8.3"
  }
 },
 "nbformat": 4,
 "nbformat_minor": 4
}
