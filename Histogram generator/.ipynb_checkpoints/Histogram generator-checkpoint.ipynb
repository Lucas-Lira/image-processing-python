{
 "cells": [
  {
   "cell_type": "markdown",
   "metadata": {},
   "source": [
    "# Handcrafted"
   ]
  },
  {
   "cell_type": "code",
   "execution_count": null,
   "metadata": {},
   "outputs": [],
   "source": [
    "import cv2\n",
    "import numpy as np\n",
    "import matplotlib.pyplot as plt"
   ]
  },
  {
   "cell_type": "code",
   "execution_count": null,
   "metadata": {},
   "outputs": [],
   "source": [
    "def RgbToGrayScale(image):\n",
    "    height   = image.shape[0]\n",
    "    width    = image.shape[1]\n",
    "    channels = image.shape[2]\n",
    "\n",
    "    if channels == 3:\n",
    "        for line in range(0, height):\n",
    "            for column in range(0, width):\n",
    "                my_tuple = image[line, column] # return (b, g, r)\n",
    "                luminosity = my_tuple[2] * 0.3 + my_tuple[1] * 0.59 + my_tuple[0] * 0.11\n",
    "                image[line, column] = (luminosity, luminosity, luminosity)\n",
    "        return image\n",
    "    else:\n",
    "        print('Only images with 3 channels are allowed')\n",
    "    return []"
   ]
  },
  {
   "cell_type": "code",
   "execution_count": null,
   "metadata": {},
   "outputs": [],
   "source": [
    "image = cv2.imread('images/image one.png')\n",
    "\n",
    "grayscale_image = RgbToGrayScale(image)\n",
    "\n",
    "if len(grayscale_image) > 0:\n",
    "\n",
    "    #cv2.imshow('Grayscale image', grayscale_image)\n",
    "    #cv2.waitKey(0)\n",
    "    \n",
    "    # Considerando que cada pixel pode representar 2^8 = 256 variações de níveis de cinza\n",
    "    histogram_vector = []\n",
    "    for i in range(256):\n",
    "        histogram_vector.append(0)\n",
    "\n",
    "    height   = grayscale_image.shape[0]\n",
    "    width    = grayscale_image.shape[1]\n",
    "    \n",
    "    for line in range(0, height):\n",
    "        for column in range(0, width):\n",
    "            histogram_vector[grayscale_image[line, column][0]] += 1\n",
    "    \n",
    "    plt.plot(histogram_vector)\n",
    "    plt.title('Grayscale Histogram')\n",
    "    plt.show()\n",
    "\n",
    "else:\n",
    "    print('Invalid image')"
   ]
  },
  {
   "cell_type": "markdown",
   "metadata": {},
   "source": [
    "# With OpenCV"
   ]
  },
  {
   "cell_type": "code",
   "execution_count": null,
   "metadata": {},
   "outputs": [],
   "source": [
    "import cv2\n",
    "import matplotlib.pyplot as plt\n",
    "\n",
    "# Em tons de cinza\n",
    "grayscale_image = cv2.imread('images/image one.png', cv2.IMREAD_GRAYSCALE)\n",
    "# 3 canais\n",
    "three_channel_image = cv2.imread('images/image one.png')\n",
    "\n",
    "# Imagem em tons de cinza\n",
    "grayscale_histogram = cv2.calcHist(grayscale_image, [0], None, [256], [0, 256])\n",
    "\n",
    "# Imagem com três canais\n",
    "# [0] - Analise do canal azul\n",
    "# [1] - Analise do canal verde\n",
    "# [2] - Analise do canal vermelho\n",
    "three_channel_histogram = cv2.calcHist(three_channel_image, [0], None, [256], [0, 256])\n",
    "\n",
    "#print(grayscale_histogram)\n",
    "\n",
    "plt.plot(grayscale_histogram)\n",
    "plt.title('Grayscale Histogram')\n",
    "plt.show()\n",
    "plt.plot(three_channel_histogram)\n",
    "plt.title('Three Channel Histogram')\n",
    "plt.show()\n",
    "\n",
    "#cv2.imshow('Grayscale image', grayscale_image)\n",
    "#cv2.imshow('Three Channel image', three_channel_image)\n",
    "#cv2.waitKey(0)"
   ]
  },
  {
   "cell_type": "markdown",
   "metadata": {},
   "source": [
    "# With Scikit-Image"
   ]
  },
  {
   "cell_type": "code",
   "execution_count": null,
   "metadata": {},
   "outputs": [],
   "source": [
    "from skimage import io, exposure\n",
    "#import matplotlib.pyplot as plt\n",
    "\n",
    "# Lendo e convertendo em escala de cinza\n",
    "img = io.imread('images/image one.png', as_gray=True)\n",
    "\n",
    "grayscale_histogram = exposure.histogram(img)\n",
    "\n",
    "\n",
    "\n",
    "#plt.plot(grayscale_histogram)\n",
    "#plt.title('Grayscale Histogram')\n",
    "#plt.show()\n",
    "\n",
    "#io.imshow(img)"
   ]
  }
 ],
 "metadata": {
  "kernelspec": {
   "display_name": "Python 3",
   "language": "python",
   "name": "python3"
  },
  "language_info": {
   "codemirror_mode": {
    "name": "ipython",
    "version": 3
   },
   "file_extension": ".py",
   "mimetype": "text/x-python",
   "name": "python",
   "nbconvert_exporter": "python",
   "pygments_lexer": "ipython3",
   "version": "3.8.5"
  }
 },
 "nbformat": 4,
 "nbformat_minor": 4
}
